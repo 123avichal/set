{
 "cells": [
  {
   "cell_type": "code",
   "execution_count": null,
   "id": "278499f6-f4e0-40d1-882e-26712bd1f3ed",
   "metadata": {},
   "outputs": [],
   "source": [
    "Q1. What is a set in Python?\n",
    "ANs set in python is collection of data type like tuple ,int , value only contain primitive element not list"
   ]
  },
  {
   "cell_type": "code",
   "execution_count": 50,
   "id": "454f9f44-c29c-401f-9bc4-fce0c0625a9f",
   "metadata": {},
   "outputs": [],
   "source": [
    "# Q2.How do you create a set in Python?\n",
    "s= {1,2,3,4}"
   ]
  },
  {
   "cell_type": "code",
   "execution_count": 51,
   "id": "54843584-9491-4907-adb3-f815bf63cb86",
   "metadata": {},
   "outputs": [
    {
     "data": {
      "text/plain": [
       "set"
      ]
     },
     "execution_count": 51,
     "metadata": {},
     "output_type": "execute_result"
    }
   ],
   "source": [
    "type(s)"
   ]
  },
  {
   "cell_type": "code",
   "execution_count": 54,
   "id": "104c896c-763c-4416-8e40-7411ea367686",
   "metadata": {},
   "outputs": [],
   "source": [
    "#Q3. How do you add elements to a set in Python?\n",
    "s= {1,2,3,4,'avi',('saxena')}"
   ]
  },
  {
   "cell_type": "code",
   "execution_count": null,
   "id": "2bad2d69-a2bd-4367-840b-96f139b5a33e",
   "metadata": {},
   "outputs": [],
   "source": []
  }
 ],
 "metadata": {
  "kernelspec": {
   "display_name": "Python 3 (ipykernel)",
   "language": "python",
   "name": "python3"
  },
  "language_info": {
   "codemirror_mode": {
    "name": "ipython",
    "version": 3
   },
   "file_extension": ".py",
   "mimetype": "text/x-python",
   "name": "python",
   "nbconvert_exporter": "python",
   "pygments_lexer": "ipython3",
   "version": "3.10.8"
  }
 },
 "nbformat": 4,
 "nbformat_minor": 5
}
